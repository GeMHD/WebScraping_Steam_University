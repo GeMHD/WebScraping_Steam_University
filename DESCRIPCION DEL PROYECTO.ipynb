{
 "cells": [
  {
   "cell_type": "markdown",
   "id": "43017511",
   "metadata": {},
   "source": [
    "# SCRAPEO A UNA WEB DE COMERCIALIZACION DE VIDEOJUEGOS"
   ]
  },
  {
   "cell_type": "markdown",
   "id": "4f3f568c",
   "metadata": {},
   "source": [
    "## Objetivo:\n",
    "* Queremos obtener la información de la mejor pagina para la obtención legal de juegos guardandolo en ***data frames*** consiguiendo de este modo un resumen de la web sin tener que ingresar a ella.\n",
    "* Elegir la mejor opción de videojuegos basandonos su valoración, reseñas, precio, calificación final y precio."
   ]
  },
  {
   "cell_type": "markdown",
   "id": "17342f86",
   "metadata": {},
   "source": [
    "## Limitación:\n",
    "- Se presento el caso de que a uno de los integrantes la wb le presentaba solo 150 juegos en novedades populares mientras que al otro, le presentaba solo 50 juegos en novedades populares, creemos que esto puede deberse a quela plataforma ***steam*** muestra unicamente juego coincidentes a las preferencias del navegador posiblemente basado en ubicación, cookies o navegaciones anteriormente realizadas en esta web."
   ]
  },
  {
   "cell_type": "code",
   "execution_count": null,
   "id": "1ec5e50b",
   "metadata": {},
   "outputs": [],
   "source": []
  }
 ],
 "metadata": {
  "kernelspec": {
   "display_name": "Python 3",
   "language": "python",
   "name": "python3"
  },
  "language_info": {
   "codemirror_mode": {
    "name": "ipython",
    "version": 3
   },
   "file_extension": ".py",
   "mimetype": "text/x-python",
   "name": "python",
   "nbconvert_exporter": "python",
   "pygments_lexer": "ipython3",
   "version": "3.8.8"
  }
 },
 "nbformat": 4,
 "nbformat_minor": 5
}
