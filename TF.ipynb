{
 "cells": [
  {
   "cell_type": "markdown",
   "id": "a9f42e0c",
   "metadata": {},
   "source": [
    "# <span style=\"color:green;\">SCRAPEANDO EN STEAM:</span>"
   ]
  },
  {
   "cell_type": "code",
   "execution_count": 1,
   "id": "77984bc2",
   "metadata": {},
   "outputs": [],
   "source": [
    "import requests\n",
    "url_base = \"https://store.steampowered.com/\""
   ]
  },
  {
   "cell_type": "code",
   "execution_count": 2,
   "id": "8cfd07a4",
   "metadata": {},
   "outputs": [],
   "source": [
    "from bs4 import BeautifulSoup"
   ]
  },
  {
   "cell_type": "code",
   "execution_count": null,
   "id": "20ed5772",
   "metadata": {},
   "outputs": [],
   "source": [
    "import re\n",
    "respuesta_articulo=requests.get('https://store.steampowered.com/')\n",
    "sopa_articulo = BeautifulSoup(respuesta_articulo.text)\n",
    "contenido =sopa_articulo.find_all(\"div\", {\"class\":\"button_container\"})\n",
    "print(contenido)\n",
    "# de la pagina principal, sacamos las cuatro ventanas pero aun no estan limpias:\n",
    "# noveades, ofertas , juegos gratuitos y por etiqueta."
   ]
  },
  {
   "cell_type": "code",
   "execution_count": null,
   "id": "2ce4d243",
   "metadata": {},
   "outputs": [],
   "source": [
    "import re\n",
    "x = re.findall('https[\\S ]+6',str(contenido))\n",
    "print(x) # obtenemos los links de interes "
   ]
  },
  {
   "cell_type": "markdown",
   "id": "a58ffccb",
   "metadata": {},
   "source": [
    "## <span style=\"color:red;\">1) Scrapeando novedades en Steam:</span>"
   ]
  },
  {
   "cell_type": "code",
   "execution_count": null,
   "id": "a384c5b7",
   "metadata": {},
   "outputs": [],
   "source": [
    "def links(link): \n",
    "    return x[link]\n",
    "links(0) # obtenemos el link de novedades"
   ]
  },
  {
   "cell_type": "code",
   "execution_count": null,
   "id": "491bd46c",
   "metadata": {},
   "outputs": [],
   "source": [
    "respuesta_articulo=requests.get(links(0))\n",
    "sopa_articulo = BeautifulSoup(respuesta_articulo.text)\n",
    "contenido2 =sopa_articulo.find_all(\"div\", {\"class\":\"tab_see_more\"})\n",
    "#\"class\":\"tab_item_name\" \n",
    "x2 = re.findall('https[\\S]+pop.+n',str(contenido2)) \n",
    "print(x2)\n",
    "# obtenemos el link para ver una lista de todas las novedades posibles."
   ]
  },
  {
   "cell_type": "markdown",
   "id": "8fc83310",
   "metadata": {},
   "source": [
    "### <span style=\"color:blue;\">Nombres</span>"
   ]
  },
  {
   "cell_type": "code",
   "execution_count": null,
   "id": "cc09676e",
   "metadata": {},
   "outputs": [],
   "source": [
    "# nombres\n",
    "def nombres(cantidad):\n",
    "    respuesta_articulo=requests.get(x2[0])\n",
    "    sopa_articulo = BeautifulSoup(respuesta_articulo.text)\n",
    "    contenido3 =sopa_articulo.find_all(\"div\", {\"class\":\"col search_name ellipsis\"})\n",
    "    lista=[]\n",
    "    for i in range(cantidad):\n",
    "        lista.append(contenido3[i].text)\n",
    "    lista2=[]\n",
    "    for word in lista:\n",
    "        lista2.append(word.replace(\"\\n\",\"\"))  \n",
    "    return lista2\n",
    "NOMBRES=nombres(50) # la cantidad mostrada varia de acuerdo al usuario\n",
    "            # po l o que se establece un rango minimo de 50."
   ]
  },
  {
   "cell_type": "markdown",
   "id": "82336d95",
   "metadata": {},
   "source": [
    "### <span style=\"color:blue;\">Fecha de lanzamiento</span>"
   ]
  },
  {
   "cell_type": "code",
   "execution_count": null,
   "id": "95c70215",
   "metadata": {},
   "outputs": [],
   "source": [
    "def fecha(cantidad):\n",
    "    lista=[]\n",
    "    for i in range(cantidad):\n",
    "        respuesta_articulo=requests.get(x2[0])\n",
    "        sopa_articulo = BeautifulSoup(respuesta_articulo.text)\n",
    "        contenido5 =sopa_articulo.find_all(\"div\", {\"col search_released responsive_secondrow\"})\n",
    "        lista.append(contenido5[i].text)\n",
    "    return lista\n",
    "FECHA=fecha(50)"
   ]
  },
  {
   "cell_type": "markdown",
   "id": "8f75db4e",
   "metadata": {},
   "source": [
    "### <span style=\"color:blue;\">Reseñas de los usuarios (Valoración, cantidad de reseñas y calificación final)</span>"
   ]
  },
  {
   "cell_type": "code",
   "execution_count": null,
   "id": "e8dcaed7",
   "metadata": {},
   "outputs": [],
   "source": [
    "respuesta_articulo=requests.get(x2[0])\n",
    "sopa_articulo = BeautifulSoup(respuesta_articulo.text)\n",
    "contenido7 =sopa_articulo.find_all(\"span\", {\"class\":\"search_review_summary\"})\n",
    "x3 = re.findall('[0-9]+[\\S ]+ive.',str(contenido7)) \n",
    "valoracion=re.findall('[0-9]+%',str(x3))\n",
    "reseñas=re.findall(' [0-9,]+',str(x3))\n",
    "resumen=re.findall('[MVPO][A-z ]+',str(contenido7))\n",
    "# se extrae 3 caracteristicas importantes que se encuentran dentro del a reseña"
   ]
  },
  {
   "cell_type": "markdown",
   "id": "1352f739",
   "metadata": {},
   "source": [
    "### <span style=\"color:blue;\">Precio</span>"
   ]
  },
  {
   "cell_type": "code",
   "execution_count": null,
   "id": "12942312",
   "metadata": {},
   "outputs": [],
   "source": [
    "#Obtención de los precios finales de los juegos\n",
    "respuesta_articulo=requests.get(x2[0]) # Sacamos el request de la página de novedades totales\n",
    "sopa_articulo = BeautifulSoup(respuesta_articulo.text) # Lo guardamos en la variable sopa articulo el texto obtenido\n",
    "contenido6 =sopa_articulo.find_all(\"div\", {\"class\":\"responsive_search_name_combined\"}) # Guardamos las filas de los juegos\n",
    "import re # Importamos re para hacer uso de las expresiones regulares\n",
    "x6 = re.findall('data-price-.+',str(contenido6)) # Con expresiones regulares sacamos nuestra variable objetivo\n",
    "PRECIO = re.findall('[0-9]+',str(x6)) # Obtenemos unicamente los caracteres númericos"
   ]
  },
  {
   "cell_type": "markdown",
   "id": "0d5bd083",
   "metadata": {},
   "source": [
    "### <span style=\"color:blue;\">Creando el dataframe de lo obtenido</span>"
   ]
  },
  {
   "cell_type": "code",
   "execution_count": null,
   "id": "2afecb60",
   "metadata": {},
   "outputs": [],
   "source": [
    "import pandas as pd\n",
    "df = pd.DataFrame()\n",
    "df[\"Nombre\"]=NOMBRES\n",
    "df[\"Fecha de lanzamiento\"]=FECHA\n",
    "df[\"Valoración\"]=valoracion\n",
    "df[\"Cantidad de reseñas\"]=reseñas\n",
    "df[\"Calificación final\"]=resumen\n",
    "df[\"Precio\"]=PRECIO"
   ]
  },
  {
   "cell_type": "code",
   "execution_count": null,
   "id": "8eb48cb2",
   "metadata": {
    "scrolled": false
   },
   "outputs": [],
   "source": [
    "df['Precio'] = df['Precio'].astype(float, errors = 'raise') # hacemos la tranformación a flotante.\n",
    "precioN=df[\"Precio\"]/100 \n",
    "df[\"Precio\"]=precioN\n",
    "df"
   ]
  },
  {
   "cell_type": "markdown",
   "id": "17a04057",
   "metadata": {},
   "source": [
    "## <span style=\"color:red;\">2) Scrapeando juegos en promociones en Steam:</span>"
   ]
  },
  {
   "cell_type": "code",
   "execution_count": null,
   "id": "d9a53869",
   "metadata": {},
   "outputs": [],
   "source": [
    "def links(link): \n",
    "    return x[link]\n",
    "prom = links(1) # obtenemos el link de juegos en promociones\n",
    "prom"
   ]
  },
  {
   "cell_type": "markdown",
   "id": "b45f0982",
   "metadata": {},
   "source": [
    "### <span style=\"color:blue;\">Nombres</span>"
   ]
  },
  {
   "cell_type": "code",
   "execution_count": null,
   "id": "21f885eb",
   "metadata": {},
   "outputs": [],
   "source": [
    "# nombres\n",
    "def nombres(cantidad):\n",
    "    respuesta_articulo=requests.get(prom)\n",
    "    sopa_articulo = BeautifulSoup(respuesta_articulo.text)\n",
    "    contenido3 =sopa_articulo.find_all(\"div\", {\"class\":\"col search_name ellipsis\"})\n",
    "    lista=[]\n",
    "    for i in range(cantidad):\n",
    "        lista.append(contenido3[i].text)\n",
    "    lista2=[]\n",
    "    for word in lista:\n",
    "        lista2.append(word.replace(\"\\n\",\"\"))  \n",
    "    return lista2\n",
    "NOMBRES=nombres(50) # la cantidad mostrada varia de acuerdo al usuario\n",
    "            # po l o que se establece un rango minimo de 50."
   ]
  },
  {
   "cell_type": "markdown",
   "id": "45be1620",
   "metadata": {},
   "source": [
    "### <span style=\"color:blue;\">Fecha de lanzamiento</span>"
   ]
  },
  {
   "cell_type": "code",
   "execution_count": null,
   "id": "c418d5c5",
   "metadata": {},
   "outputs": [],
   "source": [
    "def fecha(cantidad):\n",
    "    lista=[]\n",
    "    for i in range(cantidad):\n",
    "        respuesta_articulo=requests.get(prom)\n",
    "        sopa_articulo = BeautifulSoup(respuesta_articulo.text)\n",
    "        contenido5 =sopa_articulo.find_all(\"div\", {\"col search_released responsive_secondrow\"})\n",
    "        lista.append(contenido5[i].text)\n",
    "    return lista\n",
    "FECHA=fecha(50)"
   ]
  },
  {
   "cell_type": "markdown",
   "id": "41954242",
   "metadata": {},
   "source": [
    "### <span style=\"color:blue;\">Reseñas de los usuarios (Valoración, cantidad de reseñas y calificación final)</span>"
   ]
  },
  {
   "cell_type": "code",
   "execution_count": null,
   "id": "543bc7e8",
   "metadata": {},
   "outputs": [],
   "source": [
    "respuesta_articulo=requests.get(prom)\n",
    "sopa_articulo = BeautifulSoup(respuesta_articulo.text)\n",
    "contenido7 =sopa_articulo.find_all(\"span\", {\"class\":\"search_review_summary\"})\n",
    "x3 = re.findall('[0-9]+[\\S ]+ive.',str(contenido7)) \n",
    "valoracion=re.findall('[0-9]+%',str(x3))\n",
    "print(valoracion)\n",
    "reseñas=re.findall(' [0-9,]+',str(x3))\n",
    "print(reseñas)\n",
    "resumen=re.findall('[MVPO][A-z ]+',str(contenido7))\n",
    "print(resumen)\n",
    "# se extrae 3 caracteristicas importantes que se encuentran dentro del a reseña"
   ]
  },
  {
   "cell_type": "markdown",
   "id": "0ca0ac06",
   "metadata": {},
   "source": [
    "### <span style=\"color:blue;\">Precio inicial</span>"
   ]
  },
  {
   "cell_type": "code",
   "execution_count": null,
   "id": "60518d03",
   "metadata": {},
   "outputs": [],
   "source": [
    "respuesta_articulo=requests.get(prom)\n",
    "sopa_articulo = BeautifulSoup(respuesta_articulo.text)\n",
    "contenido5 =sopa_articulo.find_all(\"div\", {\"class\":\"col search_price discounted responsive_secondrow\"})\n",
    "x7 = re.findall('strike>S..[0-9.]+',str(contenido5))\n",
    "PRECIOI = re.findall('S..[0-9.]+',str(x7))"
   ]
  },
  {
   "cell_type": "markdown",
   "id": "30f4b2fc",
   "metadata": {},
   "source": [
    "### <span style=\"color:blue;\">Precio final</span>"
   ]
  },
  {
   "cell_type": "code",
   "execution_count": null,
   "id": "40dc6a25",
   "metadata": {
    "scrolled": false
   },
   "outputs": [],
   "source": [
    "respuesta_articulo=requests.get(prom)\n",
    "sopa_articulo = BeautifulSoup(respuesta_articulo.text)\n",
    "contenido5 =sopa_articulo.find_all(\"div\", {\"class\":\"col search_price discounted responsive_secondrow\"})\n",
    "PRECIOF = re.findall('S..[0-9]+.[0-9]+ ',str(contenido5))"
   ]
  },
  {
   "cell_type": "markdown",
   "id": "af3d4e15",
   "metadata": {},
   "source": [
    "### <span style=\"color:blue;\">Descuento</span>"
   ]
  },
  {
   "cell_type": "code",
   "execution_count": null,
   "id": "4f0f1acc",
   "metadata": {},
   "outputs": [],
   "source": [
    "import re\n",
    "respuesta_articulo=requests.get(prom)\n",
    "sopa_articulo = BeautifulSoup(respuesta_articulo.text)\n",
    "contenido6 =sopa_articulo.find_all(\"span\")\n",
    "descuento = re.findall('-[0-9]+%',str(contenido6)) # porcentaje de descuento"
   ]
  },
  {
   "cell_type": "markdown",
   "id": "60dfec18",
   "metadata": {},
   "source": [
    "### <span style=\"color:blue;\">Creando el dataframe de lo obtenido</span>"
   ]
  },
  {
   "cell_type": "code",
   "execution_count": null,
   "id": "7d361a54",
   "metadata": {},
   "outputs": [],
   "source": [
    "import pandas as pd\n",
    "df = pd.DataFrame()\n",
    "df[\"Nombre\"]=NOMBRES\n",
    "df[\"Fecha de lanzamiento\"]=FECHA\n",
    "df[\"Valoración\"]=valoracion\n",
    "df[\"Cantidad de reseñas\"]=reseñas\n",
    "df[\"Calificación final\"]=resumen\n",
    "df[\"Precio inicial\"]=PRECIOI\n",
    "df[\"Precio final\"]=PRECIOF\n",
    "df[\"Descuento\"]=descuento\n",
    "df"
   ]
  },
  {
   "cell_type": "markdown",
   "id": "464965fa",
   "metadata": {},
   "source": [
    "## <span style=\"color:red;\">3) Scrapeando los juegos más vendidos en Steam:</span>"
   ]
  },
  {
   "cell_type": "code",
   "execution_count": 3,
   "id": "f74e1244",
   "metadata": {},
   "outputs": [
    {
     "name": "stdout",
     "output_type": "stream",
     "text": [
      "<div class=\"tab_see_more\">\r\n",
      "\t\t\t\t\t\t\tSee more:\t\t\t\t\t\t\t<a class=\"btnv6_white_transparent btn_small_tall\" href=\"https://store.steampowered.com/search/?filter=topsellers&amp;os=win&amp;snr=1_4_4__tabsmore\">\n",
      "<span>Top Sellers</span>\n",
      "</a>\n",
      "</div>\n"
     ]
    }
   ],
   "source": [
    "import re\n",
    "respuesta_articulo=requests.get('https://store.steampowered.com/')\n",
    "sopa_articulo = BeautifulSoup(respuesta_articulo.text)\n",
    "contenido =sopa_articulo.find_all(\"div\", {\"class\":\"tab_see_more\"})\n",
    "print(contenido[1])\n",
    "# de la pagina principal, obtenemos la vista completa de los juegos más vendidos"
   ]
  },
  {
   "cell_type": "code",
   "execution_count": 4,
   "id": "24877699",
   "metadata": {},
   "outputs": [
    {
     "name": "stdout",
     "output_type": "stream",
     "text": [
      "https://store.steampowered.com/search/?filter=topsellers&amp;os=win&amp;snr=1_4_4__tabsmore\n"
     ]
    }
   ],
   "source": [
    "import re\n",
    "top = re.findall('https[\\S ]+re',str(contenido[1]))\n",
    "print(top[0]) # obtenemos unicamente el link de los juegos más vendidos de steam"
   ]
  },
  {
   "cell_type": "markdown",
   "id": "6f565cb9",
   "metadata": {},
   "source": [
    "### <span style=\"color:blue;\">Nombres</span>"
   ]
  },
  {
   "cell_type": "code",
   "execution_count": 5,
   "id": "9e24885c",
   "metadata": {},
   "outputs": [],
   "source": [
    "# nombres\n",
    "def nombres(cantidad):\n",
    "    respuesta_articulo=requests.get(top[0])\n",
    "    sopa_articulo = BeautifulSoup(respuesta_articulo.text)\n",
    "    contenido3 =sopa_articulo.find_all(\"div\", {\"class\":\"col search_name ellipsis\"})\n",
    "    lista=[]\n",
    "    for i in range(cantidad):\n",
    "        lista.append(contenido3[i].text)\n",
    "    lista2=[]\n",
    "    for word in lista:\n",
    "        lista2.append(word.replace(\"\\n\",\"\"))  \n",
    "    return lista2\n",
    "NOMBRES=nombres(50) # la cantidad mostrada varia de acuerdo al usuario\n",
    "            # po l o que se establece un rango minimo de 50."
   ]
  },
  {
   "cell_type": "markdown",
   "id": "5f02e755",
   "metadata": {},
   "source": [
    "### <span style=\"color:blue;\">Fecha de lanzamiento</span>"
   ]
  },
  {
   "cell_type": "code",
   "execution_count": 6,
   "id": "bdb28e61",
   "metadata": {},
   "outputs": [],
   "source": [
    "def fecha(cantidad):\n",
    "    lista=[]\n",
    "    for i in range(cantidad):\n",
    "        respuesta_articulo=requests.get(top[0])\n",
    "        sopa_articulo = BeautifulSoup(respuesta_articulo.text)\n",
    "        contenido5 =sopa_articulo.find_all(\"div\", {\"col search_released responsive_secondrow\"})\n",
    "        lista.append(contenido5[i].text)\n",
    "    return lista\n",
    "FECHA=fecha(50)"
   ]
  },
  {
   "cell_type": "markdown",
   "id": "a61324a8",
   "metadata": {},
   "source": [
    "### <span style=\"color:blue;\">Precio</span>"
   ]
  },
  {
   "cell_type": "code",
   "execution_count": 7,
   "id": "52a29305",
   "metadata": {},
   "outputs": [],
   "source": [
    "#Obtención de los precios finales de los juegos\n",
    "respuesta_articulo=requests.get(top[0]) # Sacamos el request de la página de novedades totales\n",
    "sopa_articulo = BeautifulSoup(respuesta_articulo.text) # Lo guardamos en la variable sopa articulo el texto obtenido\n",
    "contenido6 =sopa_articulo.find_all(\"div\", {\"class\":\"responsive_search_name_combined\"}) # Guardamos las filas de los juegos\n",
    "import re # Importamos re para hacer uso de las expresiones regulares\n",
    "x6 = re.findall('data-price-.+',str(contenido6)) # Con expresiones regulares sacamos nuestra variable objetivo\n",
    "PRECIO = re.findall('[0-9]+',str(x6)) # Obtenemos unicamente los caracteres númericos"
   ]
  },
  {
   "cell_type": "markdown",
   "id": "35e8f66f",
   "metadata": {},
   "source": [
    "### <span style=\"color:blue;\">Creando el dataframe de lo obtenido</span>"
   ]
  },
  {
   "cell_type": "code",
   "execution_count": 8,
   "id": "90ca4571",
   "metadata": {},
   "outputs": [],
   "source": [
    "import pandas as pd\n",
    "df = pd.DataFrame()\n",
    "df[\"Nombre\"]=NOMBRES\n",
    "df[\"Fecha de lanzamiento\"]=FECHA\n",
    "df[\"Precio\"]=PRECIO"
   ]
  },
  {
   "cell_type": "code",
   "execution_count": 9,
   "id": "e8cfd41c",
   "metadata": {},
   "outputs": [
    {
     "data": {
      "text/html": [
       "<div>\n",
       "<style scoped>\n",
       "    .dataframe tbody tr th:only-of-type {\n",
       "        vertical-align: middle;\n",
       "    }\n",
       "\n",
       "    .dataframe tbody tr th {\n",
       "        vertical-align: top;\n",
       "    }\n",
       "\n",
       "    .dataframe thead th {\n",
       "        text-align: right;\n",
       "    }\n",
       "</style>\n",
       "<table border=\"1\" class=\"dataframe\">\n",
       "  <thead>\n",
       "    <tr style=\"text-align: right;\">\n",
       "      <th></th>\n",
       "      <th>Nombre</th>\n",
       "      <th>Fecha de lanzamiento</th>\n",
       "      <th>Precio</th>\n",
       "    </tr>\n",
       "  </thead>\n",
       "  <tbody>\n",
       "    <tr>\n",
       "      <th>0</th>\n",
       "      <td>ELDEN RING</td>\n",
       "      <td>24 Feb, 2022</td>\n",
       "      <td>199.00</td>\n",
       "    </tr>\n",
       "    <tr>\n",
       "      <th>1</th>\n",
       "      <td>It Takes Two</td>\n",
       "      <td>25 Mar, 2021</td>\n",
       "      <td>55.60</td>\n",
       "    </tr>\n",
       "    <tr>\n",
       "      <th>2</th>\n",
       "      <td>MONSTER HUNTER RISE</td>\n",
       "      <td>12 Jan, 2022</td>\n",
       "      <td>131.93</td>\n",
       "    </tr>\n",
       "    <tr>\n",
       "      <th>3</th>\n",
       "      <td>Core Keeper</td>\n",
       "      <td>8 Mar, 2022</td>\n",
       "      <td>28.00</td>\n",
       "    </tr>\n",
       "    <tr>\n",
       "      <th>4</th>\n",
       "      <td>Dread Hunger</td>\n",
       "      <td>26 Jan, 2022</td>\n",
       "      <td>53.00</td>\n",
       "    </tr>\n",
       "    <tr>\n",
       "      <th>5</th>\n",
       "      <td>NieR Replicant™ ver.1.22474487139...</td>\n",
       "      <td>23 Apr, 2021</td>\n",
       "      <td>99.50</td>\n",
       "    </tr>\n",
       "    <tr>\n",
       "      <th>6</th>\n",
       "      <td>Grand Theft Auto V: Premium Edition</td>\n",
       "      <td></td>\n",
       "      <td>49.17</td>\n",
       "    </tr>\n",
       "    <tr>\n",
       "      <th>7</th>\n",
       "      <td>NieR:Automata™</td>\n",
       "      <td>17 Mar, 2017</td>\n",
       "      <td>79.50</td>\n",
       "    </tr>\n",
       "    <tr>\n",
       "      <th>8</th>\n",
       "      <td>FIFA 22</td>\n",
       "      <td>30 Sep, 2021</td>\n",
       "      <td>65.67</td>\n",
       "    </tr>\n",
       "    <tr>\n",
       "      <th>9</th>\n",
       "      <td>Red Dead Redemption 2</td>\n",
       "      <td>5 Dec, 2019</td>\n",
       "      <td>99.95</td>\n",
       "    </tr>\n",
       "    <tr>\n",
       "      <th>10</th>\n",
       "      <td>EA Play</td>\n",
       "      <td>31 Aug, 2020</td>\n",
       "      <td>19.00</td>\n",
       "    </tr>\n",
       "    <tr>\n",
       "      <th>11</th>\n",
       "      <td>Battlefield V</td>\n",
       "      <td>22 Oct, 2020</td>\n",
       "      <td>49.75</td>\n",
       "    </tr>\n",
       "    <tr>\n",
       "      <th>12</th>\n",
       "      <td>Inscryption</td>\n",
       "      <td>19 Oct, 2021</td>\n",
       "      <td>35.00</td>\n",
       "    </tr>\n",
       "    <tr>\n",
       "      <th>13</th>\n",
       "      <td>CS:GO Prime Status Upgrade</td>\n",
       "      <td>21 Aug, 2012</td>\n",
       "      <td>58.00</td>\n",
       "    </tr>\n",
       "    <tr>\n",
       "      <th>14</th>\n",
       "      <td>Dying Light 2 Stay Human</td>\n",
       "      <td>3 Feb, 2022</td>\n",
       "      <td>199.00</td>\n",
       "    </tr>\n",
       "    <tr>\n",
       "      <th>15</th>\n",
       "      <td>STAR WARS Jedi: Fallen Order Deluxe Edition</td>\n",
       "      <td>14 Nov, 2019</td>\n",
       "      <td>33.80</td>\n",
       "    </tr>\n",
       "    <tr>\n",
       "      <th>16</th>\n",
       "      <td>Wallpaper Engine</td>\n",
       "      <td>Nov 2018</td>\n",
       "      <td>11.95</td>\n",
       "    </tr>\n",
       "    <tr>\n",
       "      <th>17</th>\n",
       "      <td>Syberia: The World Before</td>\n",
       "      <td>18 Mar, 2022</td>\n",
       "      <td>69.00</td>\n",
       "    </tr>\n",
       "    <tr>\n",
       "      <th>18</th>\n",
       "      <td>Resident Evil Village</td>\n",
       "      <td>7 May, 2021</td>\n",
       "      <td>99.95</td>\n",
       "    </tr>\n",
       "    <tr>\n",
       "      <th>19</th>\n",
       "      <td>TUNIC</td>\n",
       "      <td>16 Mar, 2022</td>\n",
       "      <td>53.00</td>\n",
       "    </tr>\n",
       "    <tr>\n",
       "      <th>20</th>\n",
       "      <td>Sid Meier’s Civilization® VI Anthology</td>\n",
       "      <td></td>\n",
       "      <td>95.55</td>\n",
       "    </tr>\n",
       "    <tr>\n",
       "      <th>21</th>\n",
       "      <td>Project Zomboid</td>\n",
       "      <td>8 Nov, 2013</td>\n",
       "      <td>37.00</td>\n",
       "    </tr>\n",
       "    <tr>\n",
       "      <th>22</th>\n",
       "      <td>Marvel's Guardians of the Galaxy</td>\n",
       "      <td>26 Oct, 2021</td>\n",
       "      <td>99.50</td>\n",
       "    </tr>\n",
       "    <tr>\n",
       "      <th>23</th>\n",
       "      <td>Monster Hunter World: Iceborne Master Edition</td>\n",
       "      <td></td>\n",
       "      <td>57.28</td>\n",
       "    </tr>\n",
       "    <tr>\n",
       "      <th>24</th>\n",
       "      <td>Raft</td>\n",
       "      <td>23 May, 2018</td>\n",
       "      <td>49.95</td>\n",
       "    </tr>\n",
       "    <tr>\n",
       "      <th>25</th>\n",
       "      <td>LEGO® Star Wars™: The Skywalker Saga</td>\n",
       "      <td>5 Apr, 2022</td>\n",
       "      <td>159.00</td>\n",
       "    </tr>\n",
       "    <tr>\n",
       "      <th>26</th>\n",
       "      <td>LEGO® Star Wars™: The Skywalker Saga</td>\n",
       "      <td>5 Apr, 2022</td>\n",
       "      <td>159.00</td>\n",
       "    </tr>\n",
       "    <tr>\n",
       "      <th>27</th>\n",
       "      <td>WWE 2K22</td>\n",
       "      <td>10 Mar, 2022</td>\n",
       "      <td>239.00</td>\n",
       "    </tr>\n",
       "    <tr>\n",
       "      <th>28</th>\n",
       "      <td>MONSTER HUNTER RISE Deluxe Edition</td>\n",
       "      <td></td>\n",
       "      <td>156.84</td>\n",
       "    </tr>\n",
       "    <tr>\n",
       "      <th>29</th>\n",
       "      <td>Monster Hunter: World</td>\n",
       "      <td>9 Aug, 2018</td>\n",
       "      <td>28.64</td>\n",
       "    </tr>\n",
       "    <tr>\n",
       "      <th>30</th>\n",
       "      <td>Forza Horizon 5</td>\n",
       "      <td>8 Nov, 2021</td>\n",
       "      <td>199.00</td>\n",
       "    </tr>\n",
       "    <tr>\n",
       "      <th>31</th>\n",
       "      <td>Vampire Survivors</td>\n",
       "      <td>17 Dec, 2021</td>\n",
       "      <td>7.50</td>\n",
       "    </tr>\n",
       "    <tr>\n",
       "      <th>32</th>\n",
       "      <td>Ready or Not</td>\n",
       "      <td>17 Dec, 2021</td>\n",
       "      <td>69.00</td>\n",
       "    </tr>\n",
       "    <tr>\n",
       "      <th>33</th>\n",
       "      <td>OCTOPATH TRAVELER™</td>\n",
       "      <td>7 Jun, 2019</td>\n",
       "      <td>98.75</td>\n",
       "    </tr>\n",
       "    <tr>\n",
       "      <th>34</th>\n",
       "      <td>NBA 2K22</td>\n",
       "      <td>9 Sep, 2021</td>\n",
       "      <td>71.94</td>\n",
       "    </tr>\n",
       "    <tr>\n",
       "      <th>35</th>\n",
       "      <td>NARAKA: BLADEPOINT</td>\n",
       "      <td>11 Aug, 2021</td>\n",
       "      <td>59.00</td>\n",
       "    </tr>\n",
       "    <tr>\n",
       "      <th>36</th>\n",
       "      <td>Mass Effect™ Legendary Edition</td>\n",
       "      <td>14 May, 2021</td>\n",
       "      <td>81.59</td>\n",
       "    </tr>\n",
       "    <tr>\n",
       "      <th>37</th>\n",
       "      <td>PhasmophobiaVR Supported</td>\n",
       "      <td>18 Sep, 2020</td>\n",
       "      <td>29.50</td>\n",
       "    </tr>\n",
       "    <tr>\n",
       "      <th>38</th>\n",
       "      <td>PhasmophobiaVR Supported</td>\n",
       "      <td>18 Sep, 2020</td>\n",
       "      <td>29.50</td>\n",
       "    </tr>\n",
       "    <tr>\n",
       "      <th>39</th>\n",
       "      <td>Tom Clancy's Rainbow Six® Siege</td>\n",
       "      <td>1 Dec, 2015</td>\n",
       "      <td>23.99</td>\n",
       "    </tr>\n",
       "    <tr>\n",
       "      <th>40</th>\n",
       "      <td>RimWorld</td>\n",
       "      <td>17 Oct, 2018</td>\n",
       "      <td>54.90</td>\n",
       "    </tr>\n",
       "    <tr>\n",
       "      <th>41</th>\n",
       "      <td>F1® 2021</td>\n",
       "      <td>15 Jul, 2021</td>\n",
       "      <td>49.75</td>\n",
       "    </tr>\n",
       "    <tr>\n",
       "      <th>42</th>\n",
       "      <td>SCUM</td>\n",
       "      <td>29 Aug, 2018</td>\n",
       "      <td>30.50</td>\n",
       "    </tr>\n",
       "    <tr>\n",
       "      <th>43</th>\n",
       "      <td>God of War</td>\n",
       "      <td>14 Jan, 2022</td>\n",
       "      <td>169.00</td>\n",
       "    </tr>\n",
       "    <tr>\n",
       "      <th>44</th>\n",
       "      <td>Ghostwire: Tokyo</td>\n",
       "      <td>March 25</td>\n",
       "      <td>179.00</td>\n",
       "    </tr>\n",
       "    <tr>\n",
       "      <th>45</th>\n",
       "      <td>Total War: WARHAMMER III</td>\n",
       "      <td>16 Feb, 2022</td>\n",
       "      <td>199.00</td>\n",
       "    </tr>\n",
       "    <tr>\n",
       "      <th>46</th>\n",
       "      <td>Rust</td>\n",
       "      <td>8 Feb, 2018</td>\n",
       "      <td>69.00</td>\n",
       "    </tr>\n",
       "    <tr>\n",
       "      <th>47</th>\n",
       "      <td>Rust</td>\n",
       "      <td>8 Feb, 2018</td>\n",
       "      <td>69.00</td>\n",
       "    </tr>\n",
       "    <tr>\n",
       "      <th>48</th>\n",
       "      <td>Monster Hunter Rise: Sunbreak</td>\n",
       "      <td>29 Jun, 2022</td>\n",
       "      <td>164.00</td>\n",
       "    </tr>\n",
       "    <tr>\n",
       "      <th>49</th>\n",
       "      <td>Sid Meier’s Civilization® VI</td>\n",
       "      <td>20 Oct, 2016</td>\n",
       "      <td>35.85</td>\n",
       "    </tr>\n",
       "  </tbody>\n",
       "</table>\n",
       "</div>"
      ],
      "text/plain": [
       "                                            Nombre Fecha de lanzamiento  \\\n",
       "0                                      ELDEN RING          24 Feb, 2022   \n",
       "1                                    It Takes Two          25 Mar, 2021   \n",
       "2                             MONSTER HUNTER RISE          12 Jan, 2022   \n",
       "3                                     Core Keeper           8 Mar, 2022   \n",
       "4                                    Dread Hunger          26 Jan, 2022   \n",
       "5            NieR Replicant™ ver.1.22474487139...          23 Apr, 2021   \n",
       "6             Grand Theft Auto V: Premium Edition                         \n",
       "7                                  NieR:Automata™          17 Mar, 2017   \n",
       "8                                         FIFA 22          30 Sep, 2021   \n",
       "9                           Red Dead Redemption 2           5 Dec, 2019   \n",
       "10                                        EA Play          31 Aug, 2020   \n",
       "11                                  Battlefield V          22 Oct, 2020   \n",
       "12                                    Inscryption          19 Oct, 2021   \n",
       "13                     CS:GO Prime Status Upgrade          21 Aug, 2012   \n",
       "14                       Dying Light 2 Stay Human           3 Feb, 2022   \n",
       "15    STAR WARS Jedi: Fallen Order Deluxe Edition          14 Nov, 2019   \n",
       "16                               Wallpaper Engine              Nov 2018   \n",
       "17                      Syberia: The World Before          18 Mar, 2022   \n",
       "18                          Resident Evil Village           7 May, 2021   \n",
       "19                                          TUNIC          16 Mar, 2022   \n",
       "20         Sid Meier’s Civilization® VI Anthology                         \n",
       "21                                Project Zomboid           8 Nov, 2013   \n",
       "22               Marvel's Guardians of the Galaxy          26 Oct, 2021   \n",
       "23  Monster Hunter World: Iceborne Master Edition                         \n",
       "24                                           Raft          23 May, 2018   \n",
       "25           LEGO® Star Wars™: The Skywalker Saga           5 Apr, 2022   \n",
       "26           LEGO® Star Wars™: The Skywalker Saga           5 Apr, 2022   \n",
       "27                                       WWE 2K22          10 Mar, 2022   \n",
       "28             MONSTER HUNTER RISE Deluxe Edition                         \n",
       "29                          Monster Hunter: World           9 Aug, 2018   \n",
       "30                                Forza Horizon 5           8 Nov, 2021   \n",
       "31                              Vampire Survivors          17 Dec, 2021   \n",
       "32                                   Ready or Not          17 Dec, 2021   \n",
       "33                             OCTOPATH TRAVELER™           7 Jun, 2019   \n",
       "34                                       NBA 2K22           9 Sep, 2021   \n",
       "35                             NARAKA: BLADEPOINT          11 Aug, 2021   \n",
       "36                 Mass Effect™ Legendary Edition          14 May, 2021   \n",
       "37                       PhasmophobiaVR Supported          18 Sep, 2020   \n",
       "38                       PhasmophobiaVR Supported          18 Sep, 2020   \n",
       "39                Tom Clancy's Rainbow Six® Siege           1 Dec, 2015   \n",
       "40                                       RimWorld          17 Oct, 2018   \n",
       "41                                       F1® 2021          15 Jul, 2021   \n",
       "42                                           SCUM          29 Aug, 2018   \n",
       "43                                     God of War          14 Jan, 2022   \n",
       "44                               Ghostwire: Tokyo              March 25   \n",
       "45                       Total War: WARHAMMER III          16 Feb, 2022   \n",
       "46                                           Rust           8 Feb, 2018   \n",
       "47                                           Rust           8 Feb, 2018   \n",
       "48                  Monster Hunter Rise: Sunbreak          29 Jun, 2022   \n",
       "49                   Sid Meier’s Civilization® VI          20 Oct, 2016   \n",
       "\n",
       "    Precio  \n",
       "0   199.00  \n",
       "1    55.60  \n",
       "2   131.93  \n",
       "3    28.00  \n",
       "4    53.00  \n",
       "5    99.50  \n",
       "6    49.17  \n",
       "7    79.50  \n",
       "8    65.67  \n",
       "9    99.95  \n",
       "10   19.00  \n",
       "11   49.75  \n",
       "12   35.00  \n",
       "13   58.00  \n",
       "14  199.00  \n",
       "15   33.80  \n",
       "16   11.95  \n",
       "17   69.00  \n",
       "18   99.95  \n",
       "19   53.00  \n",
       "20   95.55  \n",
       "21   37.00  \n",
       "22   99.50  \n",
       "23   57.28  \n",
       "24   49.95  \n",
       "25  159.00  \n",
       "26  159.00  \n",
       "27  239.00  \n",
       "28  156.84  \n",
       "29   28.64  \n",
       "30  199.00  \n",
       "31    7.50  \n",
       "32   69.00  \n",
       "33   98.75  \n",
       "34   71.94  \n",
       "35   59.00  \n",
       "36   81.59  \n",
       "37   29.50  \n",
       "38   29.50  \n",
       "39   23.99  \n",
       "40   54.90  \n",
       "41   49.75  \n",
       "42   30.50  \n",
       "43  169.00  \n",
       "44  179.00  \n",
       "45  199.00  \n",
       "46   69.00  \n",
       "47   69.00  \n",
       "48  164.00  \n",
       "49   35.85  "
      ]
     },
     "execution_count": 9,
     "metadata": {},
     "output_type": "execute_result"
    }
   ],
   "source": [
    "df['Precio'] = df['Precio'].astype(float, errors = 'raise') # hacemos la tranformación a flotante.\n",
    "precioN=df[\"Precio\"]/100 \n",
    "df[\"Precio\"]=precioN\n",
    "df"
   ]
  }
 ],
 "metadata": {
  "kernelspec": {
   "display_name": "Python 3 (ipykernel)",
   "language": "python",
   "name": "python3"
  },
  "language_info": {
   "codemirror_mode": {
    "name": "ipython",
    "version": 3
   },
   "file_extension": ".py",
   "mimetype": "text/x-python",
   "name": "python",
   "nbconvert_exporter": "python",
   "pygments_lexer": "ipython3",
   "version": "3.9.7"
  }
 },
 "nbformat": 4,
 "nbformat_minor": 5
}
