{
 "cells": [
  {
   "cell_type": "code",
   "execution_count": 67,
   "id": "77984bc2",
   "metadata": {},
   "outputs": [
    {
     "data": {
      "text/plain": [
       "'https://store.steampowered.com/'"
      ]
     },
     "execution_count": 67,
     "metadata": {},
     "output_type": "execute_result"
    }
   ],
   "source": [
    "import requests\n",
    "url_base = \"https://store.steampowered.com/\""
   ]
  },
  {
   "cell_type": "code",
   "execution_count": 2,
   "id": "8cfd07a4",
   "metadata": {},
   "outputs": [],
   "source": [
    "from bs4 import BeautifulSoup"
   ]
  },
  {
   "cell_type": "code",
   "execution_count": 83,
   "id": "20ed5772",
   "metadata": {},
   "outputs": [
    {
     "name": "stdout",
     "output_type": "stream",
     "text": [
      "[<div class=\"button_container\" data-panel='{\"flow-children\":\"row\"}'>\n",
      "<a class=\"big_button\" data-panel=\"[]\" href=\"https://store.steampowered.com/explore/new/?snr=1_4_4__146\">\r\n",
      "                    New Releases                </a>\n",
      "<a class=\"big_button\" data-panel=\"[]\" href=\"https://store.steampowered.com/search/?specials=1&amp;snr=1_4_4__146\">\r\n",
      "                    Specials                </a>\n",
      "<a class=\"big_button\" data-panel=\"[]\" href=\"https://store.steampowered.com/genre/Free to Play/?snr=1_4_4__146\">\r\n",
      "                    Free Games                </a>\n",
      "<a class=\"big_button\" data-panel=\"[]\" href=\"https://store.steampowered.com/tag/browse/?snr=1_4_4__146\">\r\n",
      "                    By User Tags                </a>\n",
      "</div>]\n"
     ]
    }
   ],
   "source": [
    "import re\n",
    "respuesta_articulo=requests.get('https://store.steampowered.com/')\n",
    "sopa_articulo = BeautifulSoup(respuesta_articulo.text)\n",
    "contenido =sopa_articulo.find_all(\"div\", {\"class\":\"button_container\"})\n",
    "print(contenido) # \"class\":\"button_container\"\n",
    "type(contenido)\n",
    "fichero = open('direccion.txt','w')  \n",
    "fichero.write( str(contenido)) \n",
    "fichero.close()"
   ]
  },
  {
   "cell_type": "code",
   "execution_count": 81,
   "id": "2ce4d243",
   "metadata": {},
   "outputs": [
    {
     "name": "stdout",
     "output_type": "stream",
     "text": [
      "['https://store.steampowered.com/explore/new/?snr=1_4_4__146', 'https://store.steampowered.com/search/?specials=1&amp;snr=1_4_4__146', 'https://store.steampowered.com/genre/Free to Play/?snr=1_4_4__146', 'https://store.steampowered.com/tag/browse/?snr=1_4_4__146']\n"
     ]
    }
   ],
   "source": [
    "import re\n",
    "x = re.findall('https[\\S ]+6',str(contenido))\n",
    "print(x)"
   ]
  },
  {
   "cell_type": "code",
   "execution_count": 82,
   "id": "04bbf845",
   "metadata": {},
   "outputs": [
    {
     "name": "stdout",
     "output_type": "stream",
     "text": [
      "[<div class=\"button_container\" data-panel='{\"flow-children\":\"row\"}'>\n",
      "<a class=\"big_button\" data-panel=\"[]\" href=\"https://store.steampowered.com/explore/new/?snr=1_4_4__146\">\n",
      "\n",
      "                    New Releases                </a>\n",
      "<a class=\"big_button\" data-panel=\"[]\" href=\"https://store.steampowered.com/search/?specials=1&amp;snr=1_4_4__146\">\n",
      "\n",
      "                    Specials                </a>\n",
      "<a class=\"big_button\" data-panel=\"[]\" href=\"https://store.steampowered.com/genre/Free to Play/?snr=1_4_4__146\">\n",
      "\n",
      "                    Free Games                </a>\n",
      "<a class=\"big_button\" data-panel=\"[]\" href=\"https://store.steampowered.com/tag/browse/?snr=1_4_4__146\">\n",
      "\n",
      "                    By User Tags                </a>\n",
      "</div>]\n"
     ]
    }
   ],
   "source": []
  }
 ],
 "metadata": {
  "kernelspec": {
   "display_name": "Python 3",
   "language": "python",
   "name": "python3"
  },
  "language_info": {
   "codemirror_mode": {
    "name": "ipython",
    "version": 3
   },
   "file_extension": ".py",
   "mimetype": "text/x-python",
   "name": "python",
   "nbconvert_exporter": "python",
   "pygments_lexer": "ipython3",
   "version": "3.8.8"
  }
 },
 "nbformat": 4,
 "nbformat_minor": 5
}
