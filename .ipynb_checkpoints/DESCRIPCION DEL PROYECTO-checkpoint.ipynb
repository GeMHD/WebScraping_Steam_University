{
 "cells": [
  {
   "cell_type": "markdown",
   "id": "43017511",
   "metadata": {},
   "source": [
    "# SCRAPEO A UNA WEB DE COMERCIALIZACION DE VIDEOJUEGOS"
   ]
  },
  {
   "cell_type": "markdown",
   "id": "4f3f568c",
   "metadata": {},
   "source": [
    "## Objetivo:\n",
    "* Queremos obtener la información de la mejor pagina para la obtención legal de juegos guardandolo en ***data frames*** consiguiendo de este modo un resumen de la web sin tener que ingresar a ella.\n",
    "* Elegir la mejor opción de videojuegos basandonos su valoración, reseñas, calificación final, precio inicial, precio final y descuento."
   ]
  },
  {
   "cell_type": "markdown",
   "id": "17342f86",
   "metadata": {},
   "source": [
    "## Limitación:\n",
    "- Se presento el caso de que a uno de los integrantes la wb le presentaba solo 150 juegos en novedades populares mientras que al otro, le presentaba solo 50 juegos en novedades populares, creemos que esto puede deberse a quela plataforma ***steam*** muestra unicamente juego coincidentes a las preferencias del navegador posiblemente basado en ubicación, cookies o navegaciones anteriormente realizadas en esta web.\n",
    "- Se encontraron muchas variables en las cuales ***steam*** no tenían valores definidos y a pesar de que estos se encuentren vacíos se pudo contabilizar como espacio vacío ya que tenía un lugar en el código fuente de la página. Sin embargo, para la variable **reseñas**, si este valor no estaba definido no se encontraba en ningún lugar del código fuente de la página por lo que ni como valor en blanco se pudo tomar.\n",
    "- En el tercer scrapeo realizado a los videojuegos mayores vendidos, algunos se encuentran sin calificación del usuario ya que en este apartado también se cuenta los juegos próximos a salir por las preventas.\n",
    "- Nos dimos cuenta de que ***steam*** cambia su interfaz y agrega juegos a su plataforma constantemente, por lo que los valores encontrado al día de hoy podrían no ser los mismos de acá a un par de semanas."
   ]
  },
  {
   "cell_type": "markdown",
   "id": "0a3bffb7",
   "metadata": {},
   "source": [
    "### Integrantes:\n",
    "\n",
    "- Huamaní Diestra, Gerardo Manuel 20191304\n",
    "\n",
    "- Yesquen Vasquez, Jean PIerre 20191320"
   ]
  }
 ],
 "metadata": {
  "kernelspec": {
   "display_name": "Python 3 (ipykernel)",
   "language": "python",
   "name": "python3"
  },
  "language_info": {
   "codemirror_mode": {
    "name": "ipython",
    "version": 3
   },
   "file_extension": ".py",
   "mimetype": "text/x-python",
   "name": "python",
   "nbconvert_exporter": "python",
   "pygments_lexer": "ipython3",
   "version": "3.9.7"
  }
 },
 "nbformat": 4,
 "nbformat_minor": 5
}
