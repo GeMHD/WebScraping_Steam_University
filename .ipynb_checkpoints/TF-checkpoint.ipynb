{
 "cells": [
  {
   "cell_type": "markdown",
   "id": "98d8e743",
   "metadata": {},
   "source": [
    "# SCRAPEANDO EN STEAM"
   ]
  },
  {
   "cell_type": "code",
   "execution_count": 1,
   "id": "77984bc2",
   "metadata": {},
   "outputs": [],
   "source": [
    "import requests\n",
    "url_base = \"https://store.steampowered.com/\""
   ]
  },
  {
   "cell_type": "code",
   "execution_count": 2,
   "id": "8cfd07a4",
   "metadata": {},
   "outputs": [],
   "source": [
    "from bs4 import BeautifulSoup"
   ]
  },
  {
   "cell_type": "code",
   "execution_count": 3,
   "id": "20ed5772",
   "metadata": {},
   "outputs": [
    {
     "name": "stdout",
     "output_type": "stream",
     "text": [
      "[<div class=\"button_container\" data-panel='{\"flow-children\":\"row\"}'>\n",
      "<a class=\"big_button\" data-panel=\"[]\" href=\"https://store.steampowered.com/explore/new/?snr=1_4_4__146\">\r\n",
      "                    New Releases                </a>\n",
      "<a class=\"big_button\" data-panel=\"[]\" href=\"https://store.steampowered.com/search/?specials=1&amp;snr=1_4_4__146\">\r\n",
      "                    Specials                </a>\n",
      "<a class=\"big_button\" data-panel=\"[]\" href=\"https://store.steampowered.com/genre/Free to Play/?snr=1_4_4__146\">\r\n",
      "                    Free Games                </a>\n",
      "<a class=\"big_button\" data-panel=\"[]\" href=\"https://store.steampowered.com/tag/browse/?snr=1_4_4__146\">\r\n",
      "                    By User Tags                </a>\n",
      "</div>]\n"
     ]
    }
   ],
   "source": [
    "import re\n",
    "respuesta_articulo=requests.get('https://store.steampowered.com/')\n",
    "sopa_articulo = BeautifulSoup(respuesta_articulo.text)\n",
    "contenido =sopa_articulo.find_all(\"div\", {\"class\":\"button_container\"})\n",
    "print(contenido) # \"class\":\"button_container\"\n",
    "# de la pagina principal, sacamos las cuatro ventanas pero aun no estan limpias:\n",
    "# noveades, ofertas , juegos gratuitos y por etiqueta."
   ]
  },
  {
   "cell_type": "code",
   "execution_count": 4,
   "id": "2ce4d243",
   "metadata": {},
   "outputs": [
    {
     "name": "stdout",
     "output_type": "stream",
     "text": [
      "['https://store.steampowered.com/explore/new/?snr=1_4_4__146', 'https://store.steampowered.com/search/?specials=1&amp;snr=1_4_4__146', 'https://store.steampowered.com/genre/Free to Play/?snr=1_4_4__146', 'https://store.steampowered.com/tag/browse/?snr=1_4_4__146']\n"
     ]
    }
   ],
   "source": [
    "import re\n",
    "x = re.findall('https[\\S ]+6',str(contenido))\n",
    "print(x) # obtenemos los links de interes "
   ]
  },
  {
   "cell_type": "code",
   "execution_count": 5,
   "id": "0d3ada1d",
   "metadata": {},
   "outputs": [
    {
     "data": {
      "text/plain": [
       "'https://store.steampowered.com/explore/new/?snr=1_4_4__146'"
      ]
     },
     "execution_count": 5,
     "metadata": {},
     "output_type": "execute_result"
    }
   ],
   "source": [
    "def links(link): \n",
    "    return x[link]\n",
    "links(0) # obtenemos el link de novedades"
   ]
  },
  {
   "cell_type": "code",
   "execution_count": 6,
   "id": "bb86ef7b",
   "metadata": {},
   "outputs": [
    {
     "name": "stdout",
     "output_type": "stream",
     "text": [
      "['https://store.steampowered.com/search/?filter=popularnew&amp;sort_by=Released_DESC&amp;os=win']\n"
     ]
    }
   ],
   "source": [
    "respuesta_articulo=requests.get(links(0))\n",
    "sopa_articulo = BeautifulSoup(respuesta_articulo.text)\n",
    "contenido2 =sopa_articulo.find_all(\"div\", {\"class\":\"tab_see_more\"})\n",
    "#\"class\":\"tab_item_name\" \n",
    "x2 = re.findall('https[\\S]+pop.+n',str(contenido2)) \n",
    "print(x2)\n",
    "# obtenemos el link para ver una lista de todas las novedades posibles."
   ]
  },
  {
   "cell_type": "markdown",
   "id": "943314c3",
   "metadata": {},
   "source": [
    "### NOMBRES"
   ]
  },
  {
   "cell_type": "code",
   "execution_count": 7,
   "id": "cce08ef8",
   "metadata": {},
   "outputs": [
    {
     "data": {
      "text/plain": [
       "['ELDEN RING ',\n",
       " 'Counter-Strike: Global Offensive ',\n",
       " 'Apex Legends™ ',\n",
       " 'Lost Ark ',\n",
       " 'Destiny 2 ',\n",
       " 'MONSTER HUNTER RISE ',\n",
       " \"Tom Clancy's Rainbow Six® Siege \",\n",
       " 'NARAKA: BLADEPOINT ',\n",
       " 'PUBG: BATTLEGROUNDS ',\n",
       " 'It Takes Two ',\n",
       " 'FIFA 22 ',\n",
       " 'Yu-Gi-Oh! Master Duel ',\n",
       " 'Red Dead Redemption 2 ',\n",
       " 'The Sims™ 4 ',\n",
       " 'Grand Theft Auto V ',\n",
       " 'Rust ',\n",
       " 'Core Keeper ',\n",
       " 'War ThunderVR Supported ',\n",
       " 'Dota 2 ',\n",
       " 'Dead by Daylight ',\n",
       " 'Sid Meier’s Civilization® VI ',\n",
       " 'Risk of Rain 2 ',\n",
       " 'Dying Light 2 Stay Human ',\n",
       " 'Monster Hunter: World ',\n",
       " 'Dread Hunger ',\n",
       " 'NBA 2K22 ',\n",
       " 'Forza Horizon 5 ',\n",
       " 'Warframe ',\n",
       " 'Ready or Not ',\n",
       " 'WWE 2K22 ',\n",
       " 'The Elder Scrolls® Online ',\n",
       " 'SMITE® ',\n",
       " 'FINAL FANTASY XIV Online ',\n",
       " 'Inscryption ',\n",
       " 'Sea of Thieves ',\n",
       " 'PhasmophobiaVR Supported ',\n",
       " 'Cities: Skylines ',\n",
       " 'Wallpaper Engine ',\n",
       " 'RimWorld ',\n",
       " 'Resident Evil Village ',\n",
       " 'God of War ',\n",
       " 'Battlefield V ',\n",
       " 'STAR WARS Jedi: Fallen Order™ ',\n",
       " 'Vampire Survivors ',\n",
       " 'Raft ',\n",
       " 'THE KING OF FIGHTERS XV ',\n",
       " 'F1® 2021 ',\n",
       " 'ARK: Survival Evolved ',\n",
       " 'Project Zomboid ',\n",
       " 'World of Warships ']"
      ]
     },
     "execution_count": 7,
     "metadata": {},
     "output_type": "execute_result"
    }
   ],
   "source": [
    "# nombres\n",
    "def nombres(cantidad):\n",
    "    respuesta_articulo=requests.get(x2[0])\n",
    "    sopa_articulo = BeautifulSoup(respuesta_articulo.text)\n",
    "    contenido3 =sopa_articulo.find_all(\"div\", {\"class\":\"col search_name ellipsis\"})\n",
    "    lista=[]\n",
    "    for i in range(cantidad):\n",
    "        lista.append(contenido3[i].text)\n",
    "    lista2=[]\n",
    "    for word in lista:\n",
    "        lista2.append(word.replace(\"\\n\",\"\"))  \n",
    "    return lista2\n",
    "nombres(50) # la cantidad mostrada varia de acuerdo al usuario\n",
    "            # po l o que se establece un rango minimo de 50."
   ]
  },
  {
   "cell_type": "code",
   "execution_count": 22,
   "id": "2f540ea0",
   "metadata": {},
   "outputs": [],
   "source": [
    "# plataforma\n",
    "respuesta_articulo=requests.get(x2[0])\n",
    "sopa_articulo = BeautifulSoup(respuesta_articulo.text)\n",
    "contenido4 =sopa_articulo.find_all(\"span\", {\"class\":\"platform_img\"})\n",
    "a=[]\n",
    "i=0\n",
    "#while i<50:\n",
    "#    if contenido4[i] == '<span class=\"platform_img win\"></span>':\n",
    "#        a[i][0]=contenido4[i]\n",
    "#    elif contenido4[i] == '<span class=\"platform_img mac\"></span>':\n",
    "#        a[i][1]=contenido4[i+1]\n",
    "#    elif contenido4[i] == '<span class=\"platform_img linux\"></span>':\n",
    "#        a[i][2]=contenido4[i+2]\n",
    "#    i =+1\n",
    "#class=\"platform_img win\"\n",
    "a=[]\n",
    "i=0\n",
    "while i<50:\n",
    "    if contenido4[i] == '<span class=\"platform_img win\"></span>':\n",
    "        k = i+1\n",
    "        b = 1\n",
    "        while contenido4[k] != '<span class=\"platform_img win\"></span>':\n",
    "            a[i][b]=contenido4[k]\n",
    "            b =+1\n",
    "            k =+1\n",
    "        a[i][0]=contenido4[i]\n",
    "        i =+1\n",
    "# falta acabar"
   ]
  },
  {
   "cell_type": "markdown",
   "id": "5ccb2f86",
   "metadata": {},
   "source": [
    "### FECHA DE LANZAMIENTO"
   ]
  },
  {
   "cell_type": "code",
   "execution_count": 21,
   "id": "012b4114",
   "metadata": {},
   "outputs": [
    {
     "data": {
      "text/plain": [
       "['24 Feb, 2022',\n",
       " '21 Aug, 2012',\n",
       " '4 Nov, 2020',\n",
       " '11 Feb, 2022',\n",
       " '12 Jan, 2022',\n",
       " '1 Oct, 2019',\n",
       " '25 Mar, 2021',\n",
       " '11 Aug, 2021',\n",
       " '1 Dec, 2015',\n",
       " '21 Dec, 2017',\n",
       " '30 Sep, 2021',\n",
       " '18 Jan, 2022',\n",
       " '5 Dec, 2019',\n",
       " '18 Jun, 2020',\n",
       " '13 Apr, 2015',\n",
       " '8 Feb, 2018',\n",
       " '15 Aug, 2013',\n",
       " '8 Mar, 2022',\n",
       " '9 Jul, 2013',\n",
       " '14 Jun, 2016',\n",
       " '20 Oct, 2016',\n",
       " '11 Aug, 2020',\n",
       " '3 Feb, 2022',\n",
       " '9 Aug, 2018',\n",
       " '26 Jan, 2022',\n",
       " '8 Nov, 2021',\n",
       " '9 Sep, 2021',\n",
       " '25 Mar, 2013',\n",
       " '10 Mar, 2022',\n",
       " '22 May, 2017',\n",
       " '17 Dec, 2021',\n",
       " '8 Sep, 2015',\n",
       " '18 Feb, 2014',\n",
       " '19 Oct, 2021',\n",
       " '3 Jun, 2020',\n",
       " '10 Mar, 2015',\n",
       " '18 Sep, 2020',\n",
       " 'Nov 2018',\n",
       " '17 Oct, 2018',\n",
       " '6 May, 2021',\n",
       " '14 Jan, 2022',\n",
       " '22 Oct, 2020',\n",
       " '17 Dec, 2021',\n",
       " '14 Nov, 2019',\n",
       " '23 May, 2018',\n",
       " '16 Feb, 2022',\n",
       " '15 Jul, 2021',\n",
       " '27 Aug, 2017',\n",
       " '8 Nov, 2013',\n",
       " '15 Nov, 2017']"
      ]
     },
     "execution_count": 21,
     "metadata": {},
     "output_type": "execute_result"
    }
   ],
   "source": [
    "def fecha(cantidad):\n",
    "    lista=[]\n",
    "    for i in range(cantidad):\n",
    "        respuesta_articulo=requests.get(x2[0])\n",
    "        sopa_articulo = BeautifulSoup(respuesta_articulo.text)\n",
    "        contenido5 =sopa_articulo.find_all(\"div\", {\"col search_released responsive_secondrow\"})\n",
    "        lista.append(contenido5[i].text)\n",
    "    return lista\n",
    "fecha(50)"
   ]
  },
  {
   "cell_type": "code",
   "execution_count": null,
   "id": "05585550",
   "metadata": {},
   "outputs": [],
   "source": []
  }
 ],
 "metadata": {
  "kernelspec": {
   "display_name": "Python 3",
   "language": "python",
   "name": "python3"
  },
  "language_info": {
   "codemirror_mode": {
    "name": "ipython",
    "version": 3
   },
   "file_extension": ".py",
   "mimetype": "text/x-python",
   "name": "python",
   "nbconvert_exporter": "python",
   "pygments_lexer": "ipython3",
   "version": "3.8.8"
  }
 },
 "nbformat": 4,
 "nbformat_minor": 5
}
